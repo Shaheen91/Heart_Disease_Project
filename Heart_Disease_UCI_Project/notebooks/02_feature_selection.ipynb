{
 "cells": [
  {
   "cell_type": "code",
   "execution_count": 4,
   "id": "5b191ae9-81a4-4a26-bec2-fe52ce164a22",
   "metadata": {},
   "outputs": [
    {
     "name": "stdout",
     "output_type": "stream",
     "text": [
      "Best number of features: 9 with CV F1 score: 0.3530\n"
     ]
    }
   ],
   "source": [
    "# Recursive Feature Elimination (RFE) with Random Forest\n",
    "# Purpose: Find the optimal number of features for modeling using cross-validation\n",
    "\n",
    "from sklearn.feature_selection import RFE\n",
    "from sklearn.ensemble import RandomForestClassifier\n",
    "from sklearn.model_selection import cross_val_score\n",
    "# Base model for RFE\n",
    "model = RandomForestClassifier(n_estimators=200, random_state=42)\n",
    "\n",
    "# Try different numbers of features from 5 up to total number of features\n",
    "feature_range = range(5, X_prep.shape[1]+1)\n",
    "cv_scores = []\n",
    "\n",
    "for n in feature_range:\n",
    "    rfe = RFE(estimator=model, n_features_to_select=n)\n",
    "    X_rfe = rfe.fit_transform(X_prep, y)\n",
    "    \n",
    "    # Evaluate the selected features using 5-fold cross-validation with F1 score\n",
    "    scores = cross_val_score(model, X_rfe, y, cv=5, scoring='f1_macro')  \n",
    "    cv_scores.append(scores.mean())\n",
    "\n",
    "# Identify the best number of features\n",
    "best_n = feature_range[np.argmax(cv_scores)]\n",
    "print(f\"Best number of features: {best_n} with CV F1 score: {max(cv_scores):.4f}\")\n"
   ]
  },
  {
   "cell_type": "code",
   "execution_count": null,
   "id": "00e09dde-3c75-4f38-a5ee-9f5372ab1c98",
   "metadata": {},
   "outputs": [],
   "source": [
    "# Apply RFE with the best number of features from the step before\n",
    "# Purpose: Reduce dimensionality and select the most important features for modeling\n",
    "\n",
    "from sklearn.feature_selection import RFE\n",
    "from sklearn.ensemble import RandomForestClassifier\n",
    "\n",
    "# --- Initialize model for RFE ---\n",
    "model = RandomForestClassifier(n_estimators=250, random_state=42)\n",
    "\n",
    "# --- Choose number of features to select ---\n",
    "n_features_to_select = 9\n",
    "\n",
    "# --- Fit RFE on preprocessed features ---\n",
    "rfe = RFE(estimator=model, n_features_to_select=n_features_to_select)\n",
    "rfe.fit(X_prep, y)\n",
    "\n",
    "# --- Get boolean mask of selected features ---\n",
    "selected_mask = rfe.support_\n",
    "\n",
    "# --- Map mask to actual feature names ---\n",
    "# Categorical features after one-hot encoding\n",
    "cat_features_ohe = preprocessor.named_transformers_['cat'].get_feature_names_out(categorical_features)\n",
    "\n",
    "# Combine all feature names (numeric + one-hot + passthrough columns)\n",
    "all_feature_names = numeric_features + list(cat_features_ohe) + ['sex', 'fbs', 'exang', 'restecg']\n",
    "\n",
    "# List of selected features\n",
    "selected_features = [name for i, name in enumerate(all_feature_names) if selected_mask[i]]\n",
    "print(\"Selected Features by RFE:\")\n",
    "print(selected_features)\n",
    "\n",
    "# --- Create reduced dataset with only selected features ---\n",
    "X_reduced = X_prep[:, selected_mask]\n",
    "print(\"Shape of reduced dataset:\", X_reduced.shape)\n"
   ]
  }
 ],
 "metadata": {
  "kernelspec": {
   "display_name": "Python 3 (ipykernel)",
   "language": "python",
   "name": "python3"
  },
  "language_info": {
   "codemirror_mode": {
    "name": "ipython",
    "version": 3
   },
   "file_extension": ".py",
   "mimetype": "text/x-python",
   "name": "python",
   "nbconvert_exporter": "python",
   "pygments_lexer": "ipython3",
   "version": "3.13.0"
  }
 },
 "nbformat": 4,
 "nbformat_minor": 5
}
